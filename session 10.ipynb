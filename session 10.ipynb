{
 "cells": [
  {
   "cell_type": "markdown",
   "metadata": {},
   "source": [
    "# Session 10"
   ]
  },
  {
   "cell_type": "markdown",
   "metadata": {},
   "source": [
    "## 1 list"
   ]
  },
  {
   "cell_type": "code",
   "execution_count": 140,
   "metadata": {},
   "outputs": [
    {
     "name": "stdout",
     "output_type": "stream",
     "text": [
      "3\n"
     ]
    }
   ],
   "source": [
    "temp_list = [1.2, \"mamad\", 45]\n",
    "print(len(temp_list))\n"
   ]
  },
  {
   "cell_type": "markdown",
   "metadata": {},
   "source": [
    "## 2 pars"
   ]
  },
  {
   "cell_type": "code",
   "execution_count": 141,
   "metadata": {},
   "outputs": [
    {
     "name": "stdout",
     "output_type": "stream",
     "text": [
      "31\n",
      "12\n",
      "3\n",
      "[1.2, 'mamad', 45]\n",
      "<class 'list'>\n"
     ]
    }
   ],
   "source": [
    "print(int(\"31\"))\n",
    "print(str(12))\n",
    "print(int(3.5))\n",
    "\n",
    "print(str(temp_list))\n",
    "print(type(temp_list))"
   ]
  },
  {
   "cell_type": "markdown",
   "metadata": {},
   "source": [
    "## 3 indexes in lists"
   ]
  },
  {
   "cell_type": "code",
   "execution_count": 142,
   "metadata": {},
   "outputs": [
    {
     "name": "stdout",
     "output_type": "stream",
     "text": [
      "[1.2, 'mamad']\n",
      "[1.2, 'mamad', 45, 2, 'programming', 2.71]\n",
      "[1.2, 'mamad', 45, 2, 'programming', 2.71, 'tehran']\n"
     ]
    }
   ],
   "source": [
    "print(temp_list[:-1])\n",
    "\n",
    "temp_list = temp_list + [2, \"programming\", 2.71]\n",
    "print(temp_list)\n",
    "temp_list.append(\"tehran\")\n",
    "print(temp_list)"
   ]
  },
  {
   "cell_type": "code",
   "execution_count": 143,
   "metadata": {},
   "outputs": [
    {
     "name": "stdout",
     "output_type": "stream",
     "text": [
      "mamad\n",
      "[1.2, 45, 2, 'programming', 2.71, 'tehran']\n"
     ]
    }
   ],
   "source": [
    "print(temp_list.pop(1))\n",
    "print(temp_list)"
   ]
  },
  {
   "cell_type": "code",
   "execution_count": 144,
   "metadata": {},
   "outputs": [
    {
     "name": "stdout",
     "output_type": "stream",
     "text": [
      "[11, 12, 13, 25, 34, 52]\n",
      "[1.3, 2, 2.5, 64]\n",
      "['a', 'b', 'ra', 'return', 'z']\n",
      "['!', '2', '35', '?', '@', 'A', 'B', 'a', 'b', 's']\n"
     ]
    }
   ],
   "source": [
    "ages = [12, 34, 52, 11, 13, 25]\n",
    "ages.sort()\n",
    "print(ages)\n",
    "\n",
    "ages = [2, 2.5, 64, 1.3]\n",
    "ages.sort()\n",
    "print(ages)\n",
    "\n",
    "ages = [\"a\", \"return\", \"b\", \"ra\", \"z\"]\n",
    "ages.sort()\n",
    "print(ages)\n",
    "\n",
    "ages = [\"s\", \"2\", \"35\", \"B\", \"a\", \"b\", \"A\", \"!\", \"@\", \"?\"]\n",
    "ages.sort()\n",
    "print(ages)"
   ]
  },
  {
   "cell_type": "markdown",
   "metadata": {},
   "source": [
    "## 4 nesting"
   ]
  },
  {
   "cell_type": "code",
   "execution_count": 145,
   "metadata": {},
   "outputs": [
    {
     "name": "stdout",
     "output_type": "stream",
     "text": [
      "6\n"
     ]
    }
   ],
   "source": [
    "nested_array = [[1,2,3], [4,5,6], [7,8,9]]\n",
    "print(nested_array[1][2])\n"
   ]
  },
  {
   "cell_type": "code",
   "execution_count": 146,
   "metadata": {},
   "outputs": [
    {
     "name": "stdout",
     "output_type": "stream",
     "text": [
      "math = 20\n",
      "history = 13\n",
      "chemistery = 11\n",
      "physics = 17\n",
      "AP = 15\n"
     ]
    }
   ],
   "source": [
    "my_scores = [20, 13, 11, 17, 15]\n",
    "my_courses = [\"math\", \"history\", \"chemistery\", \"physics\", \"AP\"]\n",
    "\n",
    "for i in range(len(my_scores)):\n",
    "    print(my_courses[i] + \" = \" + str(my_scores[i]))\n"
   ]
  },
  {
   "cell_type": "markdown",
   "metadata": {},
   "source": [
    "## Q. Print courses that I passed in the decending order"
   ]
  },
  {
   "cell_type": "code",
   "execution_count": 147,
   "metadata": {},
   "outputs": [],
   "source": [
    "my_scores = [20, 13, 11, 17, 15, 4]\n",
    "my_courses = [\"math\", \"history\", \"chemistery\", \"physics\", \"AP\", \"BP\"]\n",
    "sorted_scores = my_scores.sort()\n"
   ]
  }
 ],
 "metadata": {
  "kernelspec": {
   "display_name": "Python 3",
   "language": "python",
   "name": "python3"
  },
  "language_info": {
   "codemirror_mode": {
    "name": "ipython",
    "version": 3
   },
   "file_extension": ".py",
   "mimetype": "text/x-python",
   "name": "python",
   "nbconvert_exporter": "python",
   "pygments_lexer": "ipython3",
   "version": "3.11.9"
  }
 },
 "nbformat": 4,
 "nbformat_minor": 2
}
