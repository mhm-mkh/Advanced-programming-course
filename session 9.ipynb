{
 "cells": [
  {
   "cell_type": "markdown",
   "metadata": {},
   "source": [
    "# Session 9"
   ]
  },
  {
   "cell_type": "markdown",
   "metadata": {},
   "source": [
    "## 1 For loop"
   ]
  },
  {
   "cell_type": "code",
   "execution_count": 16,
   "metadata": {},
   "outputs": [
    {
     "name": "stdout",
     "output_type": "stream",
     "text": [
      "0\n",
      "1\n",
      "2\n",
      "3\n",
      "4\n",
      "5\n",
      "6\n",
      "7\n",
      "8\n",
      "9\n"
     ]
    }
   ],
   "source": [
    "for i in range(10):\n",
    "    print(i)\n"
   ]
  },
  {
   "cell_type": "code",
   "execution_count": 17,
   "metadata": {},
   "outputs": [
    {
     "name": "stdout",
     "output_type": "stream",
     "text": [
      "10\n"
     ]
    }
   ],
   "source": [
    "sum = 0\n",
    "for i in range(5):\n",
    "    sum += i\n",
    "print(sum)"
   ]
  },
  {
   "cell_type": "markdown",
   "metadata": {},
   "source": [
    "### 1.2 Q. Factorial"
   ]
  },
  {
   "cell_type": "code",
   "execution_count": 18,
   "metadata": {},
   "outputs": [
    {
     "name": "stdout",
     "output_type": "stream",
     "text": [
      "3628800\n"
     ]
    }
   ],
   "source": [
    "n = 10\n",
    "n_fac = 1\n",
    "for i in range(n):\n",
    "    n_fac *= i+1\n",
    "print(n_fac)\n"
   ]
  },
  {
   "cell_type": "markdown",
   "metadata": {},
   "source": [
    "### 1.3 Range usage"
   ]
  },
  {
   "cell_type": "code",
   "execution_count": 19,
   "metadata": {},
   "outputs": [
    {
     "name": "stdout",
     "output_type": "stream",
     "text": [
      "0\n",
      "1\n",
      "2\n",
      "3\n",
      "4\n",
      "\n",
      "\n",
      "2\n",
      "3\n",
      "4\n",
      "5\n",
      "6\n",
      "\n",
      "\n",
      "2\n",
      "4\n",
      "6\n"
     ]
    }
   ],
   "source": [
    "for i in range(5):\n",
    "    print(i)\n",
    "print(\"\\n\")\n",
    "for i in range(2, 7):\n",
    "    print(i)\n",
    "print(\"\\n\")\n",
    "for i in range(2, 7, 2):\n",
    "    print(i)\n"
   ]
  },
  {
   "cell_type": "code",
   "execution_count": 20,
   "metadata": {},
   "outputs": [
    {
     "name": "stdout",
     "output_type": "stream",
     "text": [
      "1\n",
      "2\n",
      "Hop!\n",
      "4\n",
      "5\n",
      "Hop!\n",
      "7\n",
      "8\n",
      "Hop!\n",
      "10\n",
      "11\n",
      "Hop!\n",
      "13\n",
      "14\n",
      "Hop!\n",
      "16\n",
      "17\n",
      "Hop!\n",
      "19\n",
      "20\n",
      "Hop!\n",
      "22\n",
      "23\n",
      "Hop!\n",
      "\n",
      "\n",
      "24\n",
      "24\n",
      "Hop!\n",
      "24\n",
      "24\n",
      "Hop!\n",
      "24\n",
      "24\n",
      "Hop!\n",
      "24\n",
      "24\n",
      "Hop!\n",
      "24\n",
      "24\n",
      "Hop!\n",
      "24\n",
      "24\n",
      "Hop!\n",
      "24\n",
      "24\n",
      "Hop!\n",
      "24\n",
      "24\n",
      "Hop!\n"
     ]
    }
   ],
   "source": [
    "# for i in range(1, 25):\n",
    "#     if i % 3 == 0:\n",
    "#         print(\"Hop!\")\n",
    "#     else:\n",
    "#         print(i)\n",
    "# print(\"\\n\")\n",
    "number = 1\n",
    "while True:\n",
    "    if number % 3 == 0:\n",
    "        print(\"Hop!\")\n",
    "    else: \n",
    "        print(i)\n",
    "    number += 1\n",
    "    if number >= 25:\n",
    "        break\n",
    "\n"
   ]
  }
 ],
 "metadata": {
  "kernelspec": {
   "display_name": "Python 3",
   "language": "python",
   "name": "python3"
  },
  "language_info": {
   "codemirror_mode": {
    "name": "ipython",
    "version": 3
   },
   "file_extension": ".py",
   "mimetype": "text/x-python",
   "name": "python",
   "nbconvert_exporter": "python",
   "pygments_lexer": "ipython3",
   "version": "3.11.9"
  }
 },
 "nbformat": 4,
 "nbformat_minor": 2
}
