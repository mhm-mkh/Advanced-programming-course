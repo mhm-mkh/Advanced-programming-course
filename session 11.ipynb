{
 "cells": [
  {
   "cell_type": "markdown",
   "metadata": {},
   "source": [
    "# Session 11"
   ]
  },
  {
   "cell_type": "markdown",
   "metadata": {},
   "source": [
    "## Q. Print courses that I passed in the decending order"
   ]
  },
  {
   "cell_type": "code",
   "execution_count": 123,
   "metadata": {},
   "outputs": [
    {
     "name": "stdout",
     "output_type": "stream",
     "text": [
      "math = 20\n",
      "physics = 17\n",
      "AP = 15\n",
      "history = 13\n",
      "chemistery = 11\n"
     ]
    }
   ],
   "source": [
    "my_scores = [20, 13, 11, 17, 15, 4]\n",
    "my_courses = [\"math\", \"history\", \"chemistery\", \"physics\", \"AP\", \"BP\"]\n",
    "while len(my_scores) > 0:\n",
    "    if min(my_scores) < 10:\n",
    "        index = my_scores.index(min(my_scores))\n",
    "        my_courses.remove(my_courses[index])\n",
    "        my_scores.remove(min(my_scores))\n",
    "    else:\n",
    "        index = my_scores.index(max(my_scores))\n",
    "        print(my_courses[my_scores.index(max(my_scores))]+ \" = \"+ str(my_scores[index]))\n",
    "        my_scores.remove(my_scores[index])\n",
    "        my_courses.remove(my_courses[index])"
   ]
  },
  {
   "cell_type": "markdown",
   "metadata": {},
   "source": [
    "## 1 dictionary"
   ]
  },
  {
   "cell_type": "code",
   "execution_count": 124,
   "metadata": {},
   "outputs": [
    {
     "name": "stdout",
     "output_type": "stream",
     "text": [
      "mamad\n",
      "20\n"
     ]
    }
   ],
   "source": [
    "temp_dict = {\"name\":\"mamad\", \"age\":20}\n",
    "print(temp_dict[\"name\"])\n",
    "print(temp_dict[\"age\"])\n"
   ]
  },
  {
   "cell_type": "markdown",
   "metadata": {},
   "source": [
    "### 1.2 name dict"
   ]
  },
  {
   "cell_type": "code",
   "execution_count": 125,
   "metadata": {},
   "outputs": [
    {
     "name": "stdout",
     "output_type": "stream",
     "text": [
      "{'name': {'first name': 'Mohammad', 'last name': 'Mohammad Khaninezhad'}, 'age': 20}\n",
      "Mohammad\n",
      "The last city you visited was Shahrekord and you have been to 3 cities\n"
     ]
    }
   ],
   "source": [
    "name_dict = {\"first name\": \"Mohammad\", \"last name\": \"Mohammad Khaninezhad\"}\n",
    "profile_dict = {\"name\":name_dict, \"age\":20}\n",
    "print(profile_dict)\n",
    "print(profile_dict[\"name\"][\"first name\"])\n",
    "\n",
    "cities = [\"Tehran\", \"Boston\", \"Shahrekord\"]\n",
    "profile_dict[\"cities\"] = cities\n",
    "\n",
    "print(\"The last city you visited was\", profile_dict[\"cities\"][-1], \"and you have been to\", len(profile_dict[\"cities\"]), \"cities\")\n",
    "\n"
   ]
  },
  {
   "cell_type": "code",
   "execution_count": 126,
   "metadata": {},
   "outputs": [
    {
     "name": "stdout",
     "output_type": "stream",
     "text": [
      "{'name': {'first name': 'Mohammad', 'last name': 'Mohammad Khaninezhad'}, 'age': 20, 'cities': ['Tehran', 'Boston', 'Shahrekord'], 'friends': [{'first name': 'Shahrad', 'last name': 'Shahraki', 'age': 21, 'id': 0}, {'first name': 'Hossein', 'last name': 'Dehghan', 'age': 22, 'id': 1}]}\n",
      "[{'first name': 'Shahrad', 'last name': 'Shahraki', 'age': 21, 'id': 0}, {'first name': 'Hossein', 'last name': 'Dehghan', 'age': 22, 'id': 1}, {'first name': 'Erfan', 'last name': 'Kasef', 'age': 23, 'id': 2}]\n"
     ]
    }
   ],
   "source": [
    "profile_dict[\"friends\"] = [{\"first name\": \"Shahrad\", \"last name\": \"Shahraki\", \"age\":21, \"id\":0},\n",
    "                           {\"first name\": \"Hossein\", \"last name\": \"Dehghan\", \"age\":22, \"id\":1}]\n",
    "print(profile_dict)\n",
    "\n",
    "profile_dict[\"friends\"].append({\"first name\": \"Erfan\", \"last name\": \"Kasef\", \"age\":23, \"id\":2})\n",
    "\n",
    "print(profile_dict[\"friends\"])\n"
   ]
  },
  {
   "cell_type": "markdown",
   "metadata": {},
   "source": [
    "## Q print name of oldest friend and average age of your friends "
   ]
  },
  {
   "cell_type": "code",
   "execution_count": 127,
   "metadata": {},
   "outputs": [
    {
     "name": "stdout",
     "output_type": "stream",
     "text": [
      "This is my oldest friend: Erfan Kasef\n",
      "This is the average of my friends age: 22\n"
     ]
    }
   ],
   "source": [
    "ages = []\n",
    "for i in range(len(profile_dict[\"friends\"])):\n",
    "    ages.append(profile_dict[\"friends\"][i][\"age\"])\n",
    "print(\"This is my oldest friend:\", profile_dict[\"friends\"][ages.index(max(ages))][\"first name\"], profile_dict[\"friends\"][ages.index(max(ages))][\"last name\"])\n",
    "average = 0\n",
    "for age in ages:\n",
    "    average += age\n",
    "print(\"This is the average of my friends age:\", average//len(ages))"
   ]
  }
 ],
 "metadata": {
  "kernelspec": {
   "display_name": "Python 3",
   "language": "python",
   "name": "python3"
  },
  "language_info": {
   "codemirror_mode": {
    "name": "ipython",
    "version": 3
   },
   "file_extension": ".py",
   "mimetype": "text/x-python",
   "name": "python",
   "nbconvert_exporter": "python",
   "pygments_lexer": "ipython3",
   "version": "3.11.9"
  }
 },
 "nbformat": 4,
 "nbformat_minor": 2
}
