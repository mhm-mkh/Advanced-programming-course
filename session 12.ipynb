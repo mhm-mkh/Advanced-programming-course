{
 "cells": [
  {
   "cell_type": "markdown",
   "metadata": {},
   "source": [
    "# Session 12"
   ]
  },
  {
   "cell_type": "markdown",
   "metadata": {},
   "source": [
    "### 1.2 name dict"
   ]
  },
  {
   "cell_type": "code",
   "execution_count": 61,
   "metadata": {},
   "outputs": [
    {
     "name": "stdout",
     "output_type": "stream",
     "text": [
      "{'name': {'first name': 'Mohammad', 'last name': 'Mohammad Khaninezhad'}, 'age': 20}\n",
      "Mohammad\n",
      "The last city you visited was Shahrekord and you have been to 3 cities\n"
     ]
    }
   ],
   "source": [
    "name_dict = {\"first name\": \"Mohammad\", \"last name\": \"Mohammad Khaninezhad\"}\n",
    "profile_dict = {\"name\":name_dict, \"age\":20}\n",
    "print(profile_dict)\n",
    "print(profile_dict[\"name\"][\"first name\"])\n",
    "\n",
    "cities = [\"Tehran\", \"Boston\", \"Shahrekord\"]\n",
    "profile_dict[\"cities\"] = cities\n",
    "\n",
    "print(\"The last city you visited was\", profile_dict[\"cities\"][-1], \"and you have been to\", len(profile_dict[\"cities\"]), \"cities\")\n",
    "\n"
   ]
  },
  {
   "cell_type": "code",
   "execution_count": 62,
   "metadata": {},
   "outputs": [
    {
     "name": "stdout",
     "output_type": "stream",
     "text": [
      "{'name': {'first name': 'Mohammad', 'last name': 'Mohammad Khaninezhad'}, 'age': 20, 'cities': ['Tehran', 'Boston', 'Shahrekord'], 'friends': [{'first name': 'Shahrad', 'last name': 'Shahraki', 'age': 21, 'id': 0}, {'first name': 'Hossein', 'last name': 'Dehghan', 'age': 22, 'id': 1}]}\n",
      "[{'first name': 'Shahrad', 'last name': 'Shahraki', 'age': 21, 'id': 0}, {'first name': 'Hossein', 'last name': 'Dehghan', 'age': 22, 'id': 1}, {'first name': 'Erfan', 'last name': 'Kasef', 'age': 23, 'id': 2}]\n"
     ]
    }
   ],
   "source": [
    "profile_dict[\"friends\"] = [{\"first name\": \"Shahrad\", \"last name\": \"Shahraki\", \"age\":21, \"id\":0},\n",
    "                           {\"first name\": \"Hossein\", \"last name\": \"Dehghan\", \"age\":22, \"id\":1}]\n",
    "print(profile_dict)\n",
    "\n",
    "profile_dict[\"friends\"].append({\"first name\": \"Erfan\", \"last name\": \"Kasef\", \"age\":23, \"id\":2})\n",
    "\n",
    "print(profile_dict[\"friends\"])\n"
   ]
  },
  {
   "cell_type": "markdown",
   "metadata": {},
   "source": [
    "## Q print name of oldest friend and average age of your friends "
   ]
  },
  {
   "cell_type": "code",
   "execution_count": 63,
   "metadata": {},
   "outputs": [
    {
     "name": "stdout",
     "output_type": "stream",
     "text": [
      "This is my oldest friend: Erfan Kasef\n",
      "This is the average of my friends age: 22\n"
     ]
    }
   ],
   "source": [
    "ages = []\n",
    "for i in range(len(profile_dict[\"friends\"])):\n",
    "    ages.append(profile_dict[\"friends\"][i][\"age\"])\n",
    "print(\"This is my oldest friend:\", profile_dict[\"friends\"][ages.index(max(ages))][\"first name\"], profile_dict[\"friends\"][ages.index(max(ages))][\"last name\"])\n",
    "average = 0\n",
    "for age in ages:\n",
    "    average += age\n",
    "print(\"This is the average of my friends age:\", average//len(ages))"
   ]
  },
  {
   "cell_type": "code",
   "execution_count": 64,
   "metadata": {},
   "outputs": [
    {
     "name": "stdout",
     "output_type": "stream",
     "text": [
      "dict_keys(['name', 'age', 'cities', 'friends'])\n",
      "dict_values([{'first name': 'Mohammad', 'last name': 'Mohammad Khaninezhad'}, 20, ['Tehran', 'Boston', 'Shahrekord'], [{'first name': 'Shahrad', 'last name': 'Shahraki', 'age': 21, 'id': 0}, {'first name': 'Hossein', 'last name': 'Dehghan', 'age': 22, 'id': 1}, {'first name': 'Erfan', 'last name': 'Kasef', 'age': 23, 'id': 2}]])\n"
     ]
    }
   ],
   "source": [
    "print(profile_dict.keys())\n",
    "print(profile_dict.values())"
   ]
  },
  {
   "cell_type": "code",
   "execution_count": 65,
   "metadata": {},
   "outputs": [],
   "source": [
    "temp_file = open(\"my_text_file.txt\", \"w\")\n",
    "temp_file.write(str(profile_dict))\n",
    "temp_file.close()"
   ]
  },
  {
   "cell_type": "code",
   "execution_count": 66,
   "metadata": {},
   "outputs": [
    {
     "name": "stdout",
     "output_type": "stream",
     "text": [
      "{'name': {'firstName': 'Amirhoshang', 'lastName': 'Hoseinpour Dehkordi'}, 'age': 34, 'cities': ['Tehran', 'Boston', 'Shahrekord'], 'farhadFriends': {'bestFriend': {'firstName': 'Philip', 'lastName': 'Fry', 'age': 35, 'id': 0}, 'lastButNotLeastFriend': {'firstName': 'Bender', 'lastName': 'Bending Rodríguez', 'age': 4, 'id': 1}, 0: {'firstName': 'Bender1', 'lastName': 'Bending Rodríguez', 'age': 4, 'id': 1}, 1: {'firstName': 'Bender2', 'lastName': 'Bending Rodríguez', 'age': 4, 'id': 1}, 2: {'firstName': 'Bender3', 'lastName': 'Bending Rodríguez', 'age': 4, 'id': 1}}, 'friends': [{'firstName': 'Philip', 'lastName': 'Fry', 'age': 35, 'id': 0}, {'firstName': 'Bender', 'lastName': 'Bending Rodríguez', 'age': 4, 'id': 1}, {'firstName': 'Amy', 'lastName': 'Wong', 'age': 30, 'id': 2}]}\n",
      "6.433400517732591e-76\n"
     ]
    }
   ],
   "source": [
    "input_file = open('amir_profile.txt', \"r\")\n",
    "amir_profile_string = input_file.read()\n",
    "input_file.close()\n",
    "print(amir_profile_string)\n",
    "# import ast\n",
    "# amir_changed_profile = ast.literal_eval()\n",
    "x = \"((2 + 2 + 4 + 5 - 10 )/ 23) ** 85\"\n",
    "print(eval(x))\n"
   ]
  }
 ],
 "metadata": {
  "kernelspec": {
   "display_name": "Python 3",
   "language": "python",
   "name": "python3"
  },
  "language_info": {
   "codemirror_mode": {
    "name": "ipython",
    "version": 3
   },
   "file_extension": ".py",
   "mimetype": "text/x-python",
   "name": "python",
   "nbconvert_exporter": "python",
   "pygments_lexer": "ipython3",
   "version": "3.11.9"
  }
 },
 "nbformat": 4,
 "nbformat_minor": 2
}
