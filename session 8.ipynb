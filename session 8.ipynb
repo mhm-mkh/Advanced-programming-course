{
 "cells": [
  {
   "cell_type": "markdown",
   "metadata": {},
   "source": [
    "# Session 8"
   ]
  },
  {
   "cell_type": "markdown",
   "metadata": {},
   "source": [
    "## 1 Q. n-th prime number"
   ]
  },
  {
   "cell_type": "code",
   "execution_count": 65,
   "metadata": {},
   "outputs": [],
   "source": [
    "# n = 10000\n",
    "# prime_nums = [1, 2]\n",
    "# checking_num = 2\n",
    "\n",
    "# while len(prime_nums) < n:\n",
    "#     x = 2\n",
    "#     while True:\n",
    "#         if checking_num % x == 0:\n",
    "#             checking_num += 1\n",
    "#             break\n",
    "#         else:\n",
    "#             x += 1\n",
    "#             if x >= checking_num:\n",
    "#                 prime_nums.append(checking_num)\n",
    "#                 checking_num += 1\n",
    "#                 break\n",
    "# print(prime_nums)\n",
    "# print(prime_nums[-1])"
   ]
  },
  {
   "cell_type": "code",
   "execution_count": null,
   "metadata": {},
   "outputs": [],
   "source": [
    "prime_nums = [1]\n",
    "divide_by = 2\n",
    "for i in range(3, 2000000, 2):\n",
    "    if i % divide_by == 0:\n",
    "        divide_by = 2\n",
    "        continue\n",
    "    else:\n",
    "        divide_by += 1\n",
    "        if divide_by > i//2:\n",
    "            prime_nums.append(i)\n",
    "            continue\n",
    "print(prime_nums)\n",
    "### I don't know why this doesn't work (continue is used wrong)\n"
   ]
  },
  {
   "cell_type": "code",
   "execution_count": null,
   "metadata": {},
   "outputs": [],
   "source": [
    "prime_nums = [2, 3]\n",
    "number = 4\n",
    "state = True\n",
    "while len(prime_nums) < 1:\n",
    "    for prime in prime_nums:\n",
    "        if number % prime == 0:\n",
    "            number += 1\n",
    "            state = False\n",
    "            break\n",
    "        elif prime == prime_nums[-1]:\n",
    "            state = True\n",
    "    if state == True:\n",
    "        prime_nums.append(number)\n",
    "        number += 1\n",
    "print(prime_nums[-2])\n",
    "### I wrote this at the start of session 9"
   ]
  }
 ],
 "metadata": {
  "kernelspec": {
   "display_name": "Python 3",
   "language": "python",
   "name": "python3"
  },
  "language_info": {
   "codemirror_mode": {
    "name": "ipython",
    "version": 3
   },
   "file_extension": ".py",
   "mimetype": "text/x-python",
   "name": "python",
   "nbconvert_exporter": "python",
   "pygments_lexer": "ipython3",
   "version": "3.11.9"
  }
 },
 "nbformat": 4,
 "nbformat_minor": 2
}
